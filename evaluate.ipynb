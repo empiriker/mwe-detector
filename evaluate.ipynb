{
 "cells": [
  {
   "cell_type": "code",
   "execution_count": 1,
   "metadata": {},
   "outputs": [],
   "source": [
    "import argparse\n",
    "from collections import defaultdict\n",
    "\n",
    "import spacy\n",
    "from spacy.tokens import Doc, DocBin, Token\n",
    "\n",
    "from mwe_detector.model import MWEDetector\n",
    "from config import SPACY_MODEL"
   ]
  },
  {
   "cell_type": "code",
   "execution_count": 2,
   "metadata": {},
   "outputs": [],
   "source": [
    "\n",
    "LANG_CODE = 'fr'\n",
    "TEST_DATA_PATH = \"/home/till/VSCode/mwe-detection/data/sequoia/sequoia-ud.parseme.frsemcor\"\n",
    "TEST_DATA_PATH = \"/home/till/VSCode/mwe-detection/data/sequoia/sequoia-ud.parseme.frsemcor.cupt.spacy\""
   ]
  },
  {
   "cell_type": "code",
   "execution_count": 3,
   "metadata": {},
   "outputs": [],
   "source": [
    "nlp = spacy.load(SPACY_MODEL[LANG_CODE])\n",
    "if not Token.has_extension(\"wikt_mwe\"):\n",
    "    Token.set_extension(\"wikt_mwe\", default=\"*\")\n",
    "if not Token.has_extension(\"parseme_mwe\"):\n",
    "    Token.set_extension(\"parseme_mwe\", default=\"*\")"
   ]
  },
  {
   "cell_type": "code",
   "execution_count": 4,
   "metadata": {},
   "outputs": [
    {
     "data": {
      "text/plain": [
       "<mwe_detector.model.MWEDetector at 0x7f88d536eb00>"
      ]
     },
     "execution_count": 4,
     "metadata": {},
     "output_type": "execute_result"
    }
   ],
   "source": [
    "mweDetector = MWEDetector(nlp)\n",
    "mweDetector.from_disk(\"mwe_detector/data\")"
   ]
  },
  {
   "cell_type": "code",
   "execution_count": 5,
   "metadata": {},
   "outputs": [],
   "source": [
    "from load_cupt_to_spacy import load_cupt_to_spacy\n",
    "test_data = load_cupt_to_spacy(TEST_DATA_PATH, nlp, \"parseme:mwe\")"
   ]
  },
  {
   "cell_type": "code",
   "execution_count": 6,
   "metadata": {},
   "outputs": [],
   "source": [
    "def get_spans_of_pred(tags, doc):\n",
    "    mwes = defaultdict(lambda: {\"span\": [], \"lemmas\":[]})\n",
    "    for i, tag in enumerate(tags):\n",
    "        labels = tag.split(\", \")\n",
    "        for label in labels:\n",
    "            match_id = label.split(\":\")[0]\n",
    "            rest = label[len(match_id) + 1 :]\n",
    "            if match_id and match_id != \"*\":\n",
    "                mwes[match_id][\"span\"].append(i)\n",
    "                if \":\" in rest:\n",
    "                    lemma, pos = rest.split(\":\")\n",
    "                    mwes[match_id][\"lemma\"] = lemma\n",
    "                    mwes[match_id][\"pos\"] = pos\n",
    "                    mwes[match_id][\"lemmas\"].append(doc[i].lemma_)\n",
    "\n",
    "                    \n",
    "\n",
    "    return list(mwes.values())\n",
    "\n",
    "\n",
    "def get_spans_of_target(tags, doc):\n",
    "    mwes = defaultdict(lambda: {\"span\": [], \"lemmas\":[]})\n",
    "    for i, tag in enumerate(tags):\n",
    "        labels = tag.split(\";\")\n",
    "        for label in labels:\n",
    "            match_id = label.split(\":\")[0]\n",
    "            rest = label[len(match_id) + 1 :]\n",
    "            if match_id and match_id != \"*\":\n",
    "                mwes[match_id][\"span\"].append(i)\n",
    "                mwes[match_id][\"lemmas\"].append(doc[i].lemma_)\n",
    "                if \"|\" in rest:\n",
    "                    pos, type, misc = rest.split(\"|\")\n",
    "                    mwes[match_id][\"pos\"] = pos\n",
    "                    mwes[match_id][\"type\"] = type\n",
    "                    mwes[match_id][\"misc\"] = misc\n",
    "            \n",
    "    return list(mwes.values())\n",
    "\n"
   ]
  },
  {
   "cell_type": "code",
   "execution_count": 7,
   "metadata": {},
   "outputs": [],
   "source": [
    "preds = []\n",
    "targets = []\n",
    "\n",
    "for doc in test_data:\n",
    "    doc = mweDetector(doc)\n",
    "    pred = [tok._.wikt_mwe for tok in doc]\n",
    "    target = [tok._.parseme_mwe for tok in doc]\n",
    "    pred_spans = get_spans_of_pred(pred, doc)\n",
    "    target_spans = get_spans_of_target(target, doc)\n",
    "    target_spans = list(filter(lambda x: len(x[\"span\"]) > 1, target_spans))\n",
    "\n",
    "    preds.append(pred_spans)\n",
    "    targets.append(target_spans)\n"
   ]
  },
  {
   "cell_type": "code",
   "execution_count": 8,
   "metadata": {},
   "outputs": [
    {
     "name": "stdout",
     "output_type": "stream",
     "text": [
      "Number of MWES in train: 68\n",
      "Number of MWES in test: 4511\n",
      "Number of unique MWES in train: 65\n",
      "Number of unique MWES in test: 2121\n"
     ]
    }
   ],
   "source": [
    "mwes_lemmas_train = [mwe[\"lemmas\"] for mwe in mweDetector._data.mwes.values()]\n",
    "\n",
    "mwes_lemmas_test = [[doc[i].lemma_ for i in target['span']] for targets, doc in zip(targets, test_data) for target in targets]\n",
    "\n",
    "print(f\"Number of MWES in train: {len(mwes_lemmas_train)}\")\n",
    "print(f\"Number of MWES in test: {len(mwes_lemmas_test)}\")\n",
    "\n",
    "mwes_lemmas_train_unique = set([tuple(sorted(mwe)) for mwe in mwes_lemmas_train])\n",
    "mwes_lemmas_test_unique = set([tuple(sorted(mwe)) for mwe in mwes_lemmas_test])\n",
    "\n",
    "\n",
    "print(f\"Number of unique MWES in train: {len(mwes_lemmas_train_unique)}\")\n",
    "print(f\"Number of unique MWES in test: {len(mwes_lemmas_test_unique)}\")"
   ]
  },
  {
   "cell_type": "code",
   "execution_count": 9,
   "metadata": {},
   "outputs": [],
   "source": [
    "def update_results(predictions, targets):\n",
    "    for pred, target in zip(predictions, targets):\n",
    "        pred_spans = {tuple(sorted(mwe[\"span\"])) for mwe in pred}\n",
    "        target_spans = {tuple(sorted(mwe[\"span\"])) for mwe in target}\n",
    "\n",
    "        for mwe in pred:\n",
    "            lemmas = tuple(sorted(mwe[\"lemmas\"]))\n",
    "            seen = lemmas in mwes_lemmas_test_unique\n",
    "            mwe[\"result\"] = \"TP\" if tuple(sorted(mwe[\"span\"])) in target_spans else (\"FP-unseen\" if not seen else \"FP\")\n",
    "\n",
    "        for mwe in target:\n",
    "            lemmas = tuple(sorted(mwe[\"lemmas\"]))\n",
    "            seen =  lemmas in mwes_lemmas_train_unique\n",
    "            mwe[\"result\"] = \"TP\" if tuple(sorted(mwe[\"span\"])) in pred_spans else (\"FN-unseen\" if not seen else \"FN\")\n",
    "\n",
    "    return predictions, targets\n",
    "\n",
    "preds, targets = update_results(preds, targets)\n"
   ]
  },
  {
   "cell_type": "code",
   "execution_count": 10,
   "metadata": {},
   "outputs": [],
   "source": [
    "TP_pred, TP_target, FP, FN, FPUnseen, FNUnseen = 0, 0, 0, 0, 0, 0\n",
    "\n",
    "for pred, target in zip(preds, targets):\n",
    "    for mwe in pred:\n",
    "        if mwe[\"result\"] == \"TP\":\n",
    "            TP_pred += 1\n",
    "        elif mwe[\"result\"] == \"FP-unseen\":\n",
    "            FPUnseen += 1\n",
    "        elif mwe[\"result\"] == \"FP\":\n",
    "            FP += 1\n",
    "        else:\n",
    "            print(mwe)\n",
    "\n",
    "    for mwe in target:\n",
    "        if mwe[\"result\"] == \"TP\":\n",
    "            TP_target += 1\n",
    "        elif mwe[\"result\"] == \"FN-unseen\":\n",
    "            FNUnseen += 1\n",
    "        elif mwe[\"result\"] == \"FN\":\n",
    "            FN += 1\n",
    "        else:\n",
    "            print(mwe)"
   ]
  },
  {
   "cell_type": "code",
   "execution_count": 11,
   "metadata": {},
   "outputs": [
    {
     "name": "stdout",
     "output_type": "stream",
     "text": [
      "TP_pred: 18\n",
      "TP_target: 18\n",
      "FP: 0\n",
      "FN: 93\n",
      "FPUnseen: 22\n",
      "FNUnseen: 4400\n"
     ]
    }
   ],
   "source": [
    "print(f\"TP_pred: {TP_pred}\")\n",
    "print(f\"TP_target: {TP_target}\")\n",
    "print(f\"FP: {FP}\")\n",
    "print(f\"FN: {FN}\")\n",
    "print(f\"FPUnseen: {FPUnseen}\")\n",
    "print(f\"FNUnseen: {FNUnseen}\")"
   ]
  },
  {
   "cell_type": "code",
   "execution_count": 12,
   "metadata": {},
   "outputs": [],
   "source": [
    "def get_metrics(TP, FP, FN):\n",
    "  precision = TP / (TP + FP) if TP + FP > 0 else 0\n",
    "  recall =  TP / (TP + FN) if TP + FN > 0 else 0\n",
    "  FHalf = 5* precision * recall / (precision + 4 *  recall) if precision + recall > 0 else 0\n",
    "  return precision, recall, FHalf"
   ]
  },
  {
   "cell_type": "code",
   "execution_count": 13,
   "metadata": {},
   "outputs": [
    {
     "data": {
      "image/png": "[encoded data removed]",
      "text/plain": [
       "<Figure size 640x480 with 1 Axes>"
      ]
     },
     "metadata": {},
     "output_type": "display_data"
    },
    {
     "name": "stdout",
     "output_type": "stream",
     "text": [
      "           \tF1   \tPrecision\tRecall\n",
      "Seen       \t0.49\t\t1.00\t0.16\n",
      "Seen+Unseen\t0.02\t\t0.45\t0.00\n"
     ]
    }
   ],
   "source": [
    "import matplotlib.pyplot as plt \n",
    "\n",
    "def pretty_print_unseen_evaluation(TP, FP_seen, FN_seen, FP_unseen, FN_unseen, title=''):\n",
    "  values = [[TP, '-'], [FP_seen, FN_seen], [FP_unseen, FN_unseen], [FP_seen + FP_unseen, FN_seen + FN_unseen]]\n",
    "  fig, ax = plt.subplots() \n",
    "  ax.set_axis_off() \n",
    "  table = ax.table( \n",
    "      cellText = values,  \n",
    "      rowLabels = ['T', 'F_seen', 'F_unseen', 'F_all'],  \n",
    "      colLabels = ['P', 'N'], \n",
    "      rowColours =[\"deepskyblue\"] * 2  + 2*['lightskyblue'],  \n",
    "      colColours =[\"deepskyblue\"] * 2, \n",
    "      cellColours = [[\"gainsboro\",\"gainsboro\"]] * 2 + 2*[[\"white\", \"white\"]],\n",
    "      cellLoc ='center',  \n",
    "      loc ='upper left')         \n",
    "    \n",
    "  ax.set_title(title) \n",
    "  plt.show()\n",
    "  \n",
    "def pretty_print_metrics(TP, FP_seen, FN_seen, FP_unseen, FN_unseen):\n",
    "  precision_seen, recall_seen, F1_seen = get_metrics(TP, FP_seen, FN_seen)\n",
    "  precision, recall, F1 = get_metrics(TP, FP_seen + FP_unseen, FN_seen + FN_unseen)\n",
    "\n",
    "  print(\"{:<11}\\t{:<5}\\t{:<5}\\t{:<5}\".format('', 'F1','Precision','Recall'))\n",
    "  print(\"{:<11}\\t{:.2f}\\t\\t{:.2f}\\t{:.2f}\".format('Seen',F1_seen,precision_seen,recall_seen))\n",
    "  print(\"{:<11}\\t{:.2f}\\t\\t{:.2f}\\t{:.2f}\".format('Seen+Unseen',F1,precision,recall))\n",
    "\n",
    "\n",
    "results = [TP_pred, FP, FN, FPUnseen, FNUnseen]\n",
    "pretty_print_unseen_evaluation(*results, 'Results on Sequoia corpus')\n",
    "pretty_print_metrics(*results)"
   ]
  },
  {
   "cell_type": "code",
   "execution_count": 14,
   "metadata": {},
   "outputs": [
    {
     "data": {
      "text/plain": [
       "[]"
      ]
     },
     "execution_count": 14,
     "metadata": {},
     "output_type": "execute_result"
    }
   ],
   "source": [
    "FPSeenIdx = [i for i, mwe in enumerate(preds) if any([mwe[\"result\"] == \"FP\" for mwe in mwe])]\n",
    "FPSeenIdx"
   ]
  }
 ],
 "metadata": {
  "kernelspec": {
   "display_name": "mwe_detector",
   "language": "python",
   "name": "mwe_detector"
  },
  "language_info": {
   "codemirror_mode": {
    "name": "ipython",
    "version": 3
   },
   "file_extension": ".py",
   "mimetype": "text/x-python",
   "name": "python",
   "nbconvert_exporter": "python",
   "pygments_lexer": "ipython3",
   "version": "3.10.12"
  },
  "orig_nbformat": 4,
  "vscode": {
   "interpreter": {
    "hash": "3a042eeaff72222e69bed32b95e7fba707f97bc81a17a8395a60c703918d9e4d"
   }
  }
 },
 "nbformat": 4,
 "nbformat_minor": 2
}
